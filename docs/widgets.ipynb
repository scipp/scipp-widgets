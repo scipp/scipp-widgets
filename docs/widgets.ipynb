{
 "cells": [
  {
   "cell_type": "markdown",
   "metadata": {},
   "source": [
    "# Widgets List"
   ]
  },
  {
   "cell_type": "code",
   "execution_count": null,
   "metadata": {},
   "outputs": [],
   "source": [
    "from scipp_widgets import widgets, inputs"
   ]
  },
  {
   "cell_type": "markdown",
   "metadata": {},
   "source": [
    "### ProcessWidget"
   ]
  },
  {
   "cell_type": "code",
   "execution_count": null,
   "metadata": {},
   "outputs": [],
   "source": [
    "process_widget = widgets.ProcessWidget(wrapped_func = lambda value: value,\n",
    "                                       inputs = (inputs.TextInput('arg_name_1'), inputs.TextInput('arg_name_2')),\n",
    "                                       button_name = 'process',\n",
    "                                       hide_code = False)\n",
    "process_widget"
   ]
  },
  {
   "cell_type": "markdown",
   "metadata": {},
   "source": [
    "### PlotWidget"
   ]
  },
  {
   "cell_type": "code",
   "execution_count": null,
   "metadata": {},
   "outputs": [],
   "source": [
    "plot_widget = widgets.PlotWidget(hide_code=False)\n",
    "plot_widget "
   ]
  },
  {
   "cell_type": "markdown",
   "metadata": {},
   "source": [
    "### DisplayWidget"
   ]
  },
  {
   "cell_type": "code",
   "execution_count": null,
   "metadata": {},
   "outputs": [],
   "source": [
    "display_widget = widgets.DisplayWidget(wrapped_func=lambda value: value,\n",
    "                                       inputs=(inputs.TextInput('value'), ),\n",
    "                                       button_name='print',\n",
    "                                       hide_code=False)\n",
    "display_widget"
   ]
  },
  {
   "cell_type": "markdown",
   "metadata": {},
   "source": [
    "### LoadWidget"
   ]
  },
  {
   "cell_type": "code",
   "execution_count": null,
   "metadata": {},
   "outputs": [],
   "source": [
    "import pathlib\n",
    "load_widget = widgets.LoadWidget(wrapped_func=lambda filename: filename,\n",
    "                                inputs=(inputs.FileInput('filename'), ),\n",
    "                                button_name='Load',\n",
    "                                layout='row wrap',\n",
    "                                obj_name_generator=lambda kwargs: pathlib.Path(kwargs['filename']).stem,\n",
    "                                hide_code=False)\n",
    "load_widget"
   ]
  },
  {
   "cell_type": "code",
   "execution_count": null,
   "metadata": {},
   "outputs": [],
   "source": [
    "index"
   ]
  }
 ],
 "metadata": {
  "kernelspec": {
   "display_name": "Python 3",
   "language": "python",
   "name": "python3"
  },
  "language_info": {
   "codemirror_mode": {
    "name": "ipython",
    "version": 3
   },
   "file_extension": ".py",
   "mimetype": "text/x-python",
   "name": "python",
   "nbconvert_exporter": "python",
   "pygments_lexer": "ipython3",
   "version": "3.7.9"
  }
 },
 "nbformat": 4,
 "nbformat_minor": 4
}