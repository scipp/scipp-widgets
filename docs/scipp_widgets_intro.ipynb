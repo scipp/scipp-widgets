{
 "cells": [
  {
   "cell_type": "markdown",
   "metadata": {},
   "source": [
    "# Scipp widgets\n",
    "\n",
    "[Scipp](https://scipp.github.io/) is a python data structure module for handling multi-dimensional data arrays with labeled dimensions. \n",
    "Data reduction or analysis workflows using this module often take the form of ipython notebooks. \n",
    "\n",
    "\n",
    "Scipp-widgets is a seperate module containing some simple scipp specific wrappers using [ipywidgets](https://ipywidgets.readthedocs.io/) to allows graphical elements to be easily incorprated into such notebooks.\n",
    "This can be installed using conda with the command `conda install scipp_widgets ---channel scipp/label/dev`\n",
    "\n",
    "In this context a widget is a generic term describing the building blocks from which a user interface can be constructed. As widgets are often nested this can lead to the entire interface being a widget which contains sub-widgets within it."
   ]
  },
  {
   "cell_type": "markdown",
   "metadata": {},
   "source": [
    "## Introductory examples\n",
    "For demonstration purposes we first create a simple set of [scipp](https://scipp.github.io/tutorials/multi-d-datasets.html) data."
   ]
  },
  {
   "cell_type": "code",
   "execution_count": null,
   "metadata": {},
   "outputs": [],
   "source": [
    "import numpy as np\n",
    "import scipp as sc\n",
    "var =sc.Variable(['x', 'z'], values=np.arange(0.0, 10.0, 0.1).reshape(10, 10),\n",
    "                                              variances=0.1*np.random.rand(10, 10))\n",
    "sc.show(var)"
   ]
  },
  {
   "cell_type": "markdown",
   "metadata": {},
   "source": [
    "## Wrapping a processing function\n",
    "scipp-widgets allows functions to be wrapped in simple graphical interfaces.\n",
    "Taking inputs from, and returning outputs to, the notebook's global scope.\n",
    "As a first example, take the `scipp.sum` function.\n",
    "\n",
    "We will need to create an input specification object describing how we want the graphical inputs displayed, what validation we wish to perform and which argument of the underlying function they should correspond to. Currently there is no way to specify layout options."
   ]
  },
  {
   "cell_type": "code",
   "execution_count": null,
   "metadata": {},
   "outputs": [],
   "source": [
    "from scipp_widgets.input_spec import InputSpec, TextInputSpec\n",
    "data_input = InputSpec('x', tooltip='input data')\n",
    "dimension_input = TextInputSpec('dim', options = ('x', 'z'))"
   ]
  },
  {
   "cell_type": "markdown",
   "metadata": {},
   "source": [
    "A simeple user interface which wraps the sum function can then be constructed like so:"
   ]
  },
  {
   "cell_type": "code",
   "execution_count": null,
   "metadata": {},
   "outputs": [],
   "source": [
    "from scipp_widgets.widgets import ProcessWidget\n",
    "ProcessWidget(sc.sum, [data_input, dimension_input])"
   ]
  },
  {
   "cell_type": "markdown",
   "metadata": {},
   "source": [
    "## Wrapping a display function\n",
    "\n",
    "Another common case is to wrap a function and display its result without adding it to the notebooks global scope.\n",
    "As an example, take the `scipp.plot.plot` function. This takes a scipp object and plots it. "
   ]
  },
  {
   "cell_type": "code",
   "execution_count": null,
   "metadata": {},
   "outputs": [],
   "source": [
    "from scipp_widgets.widgets import DisplayWidget\n",
    "data_input = InputSpec('scipp_obj')\n",
    "DisplayWidget(sc.plot.plot, [data_input])"
   ]
  },
  {
   "cell_type": "markdown",
   "metadata": {},
   "source": [
    "## Validators\n",
    "Validator methods can be added to any input. \n",
    "These are run when the widget is processing and serve to both perform any pre-processing the input needs before it is passed to the underlying function as well as perform any validation specified.\n",
    "\n",
    "For example we could add a validator to our wrapped plot function meaning it will only accept scipp objects as inputs."
   ]
  },
  {
   "cell_type": "code",
   "execution_count": null,
   "metadata": {},
   "outputs": [],
   "source": [
    "from scipp_widgets.validators import scipp_object_validator\n",
    "data_input = InputSpec('scipp_obj', validator=scipp_object_validator, tooltip='Data to plot')\n",
    "DisplayWidget(sc.plot.plot, [data_input])"
   ]
  },
  {
   "cell_type": "markdown",
   "metadata": {},
   "source": [
    "## Hiding code\n",
    "The code block used to create a widget can be hidden using the key word argument `hide_code`. This adds an additional button loabelled `Py` to toggle the visability of the preceding code block."
   ]
  },
  {
   "cell_type": "code",
   "execution_count": null,
   "metadata": {},
   "outputs": [],
   "source": [
    "data_input = InputSpec('scipp_obj', validator=scipp_object_validator, tooltip='Data to plot')\n",
    "DisplayWidget(sc.plot.plot, [data_input], hide_code=True)"
   ]
  }
 ],
 "metadata": {
  "kernelspec": {
   "display_name": "Python 3",
   "language": "python",
   "name": "python3"
  },
  "language_info": {
   "codemirror_mode": {
    "name": "ipython",
    "version": 3
   },
   "file_extension": ".py",
   "mimetype": "text/x-python",
   "name": "python",
   "nbconvert_exporter": "python",
   "pygments_lexer": "ipython3",
   "version": "3.7.8"
  }
 },
 "nbformat": 4,
 "nbformat_minor": 4
}
