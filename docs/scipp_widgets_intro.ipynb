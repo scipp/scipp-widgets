{
 "cells": [
  {
   "cell_type": "markdown",
   "metadata": {},
   "source": [
    "# Scipp widgets examples\n",
    "\n",
    "The scipp-widgets module contains some simple wrapper widgets to aid in creating graphical notebooks.\n",
    "This allows arguments to wrapped functions to be displayed and selected graphically.\n",
    "To do this it builds upon the [ipywidgets](https://ipywidgets.readthedocs.io/) module.\n",
    "\n",
    "\n"
   ]
  },
  {
   "cell_type": "markdown",
   "metadata": {},
   "source": [
    "For demonstration purposes we first create a simple set of [scipp](https://scipp.github.io/tutorials/multi-d-datasets.html) data."
   ]
  },
  {
   "cell_type": "code",
   "execution_count": 2,
   "metadata": {},
   "outputs": [],
   "source": [
    "import numpy as np\n",
    "import scipp as sc\n",
    "d = sc.Dataset(\n",
    "    {\n",
    "    'alice': sc.Variable(['z', 'y', 'x'], values=np.random.rand(10, 10, 10),\n",
    "                         variances=0.1*np.random.rand(10, 10, 10)),\n",
    "    'bob': sc.Variable(['x', 'z'], values=np.arange(0.0, 10.0, 0.1).reshape(10, 10),\n",
    "                       variances=0.1*np.random.rand(10, 10))\n",
    "    },\n",
    "    coords={\n",
    "        'x': sc.Variable(['x'], values=np.arange(11.0), unit=sc.units.m),\n",
    "        'y': sc.Variable(['y'], values=np.arange(11.0), unit=sc.units.m),\n",
    "        'z': sc.Variable(['z'], values=np.arange(11.0), unit=sc.units.m)})"
   ]
  },
  {
   "cell_type": "markdown",
   "metadata": {},
   "source": [
    "## Wrapping a processing function\n",
    "scipp-widgets allows functions to be wrapped in simple graphical interfaces.\n",
    "Taking inputs from, and returning outputs to, the notebook's global scope.\n",
    "As a first example, take the `scipp.sum` function.\n",
    "\n",
    "We will need to create an input specification object for this describing how we want it displayed, what validation we wish to perform and which argument of the underlying function it should correspond to."
   ]
  },
  {
   "cell_type": "code",
   "execution_count": null,
   "metadata": {},
   "outputs": [],
   "source": [
    "from scipp_widgets.input_spec import InputSpec, StringInputSpec\n",
    "data_input = InputSpec('x', tooltip='input data')\n",
    "dimension_input = StringInputSpec('dim', options = ('x', 'z'))"
   ]
  },
  {
   "cell_type": "markdown",
   "metadata": {},
   "source": [
    "The `eval_input` allows variables in the notebooks global scope to be passed to this input by name.\n",
    "\n",
    "A widget which wraps the plot function can then be constructed like so:"
   ]
  },
  {
   "cell_type": "code",
   "execution_count": null,
   "metadata": {},
   "outputs": [],
   "source": [
    "from scipp_widgets.widgets import ProcessWidget\n",
    "ProcessWidget(sc.sum, [data_input, dimension_input])"
   ]
  },
  {
   "cell_type": "markdown",
   "metadata": {},
   "source": [
    "## Wrapping a display function\n",
    "\n",
    "Another common case is to wrap a function and display its result without adding it to the notebooks global scope.\n",
    "As an example, take the `scipp.plot.plot` function. This takes a scipp object and plots it. "
   ]
  },
  {
   "cell_type": "code",
   "execution_count": null,
   "metadata": {},
   "outputs": [],
   "source": [
    "from scipp_widgets.widgets import DisplayWidget\n",
    "data_input = InputSpec('scipp_obj')\n",
    "DisplayWidget(sc.plot.plot, [data_input])"
   ]
  },
  {
   "cell_type": "markdown",
   "metadata": {},
   "source": [
    "## Validators\n",
    "Validator methods can be added to any input. \n",
    "These are run when the widget is processing and serve to both perform any pre-processing the input needs before it is passed to the underlying function as well as perform any validation specified.\n",
    "\n",
    "For example we could add a validator to our wrapped plot function meaning it will only accept scipp objects as inputs."
   ]
  },
  {
   "cell_type": "code",
   "execution_count": null,
   "metadata": {},
   "outputs": [],
   "source": [
    "from scipp_widgets.validators import scipp_object_validator\n",
    "data_input = InputSpec('scipp_obj', validator=scipp_object_validator, tooltip='Data to plot')\n",
    "DisplayWidget(sc.plot.plot, [data_input])"
   ]
  },
  {
   "cell_type": "markdown",
   "metadata": {},
   "source": [
    "## Hiding code\n",
    "The code block used to create a widget can be hidden. Click on the `Py` button to toggle the code back to visibility."
   ]
  },
  {
   "cell_type": "code",
   "execution_count": null,
   "metadata": {},
   "outputs": [],
   "source": [
    "data_input = InputSpec('scipp_obj', validator=scipp_object_validator, tooltip='Data to plot')\n",
    "DisplayWidget(sc.plot.plot, [data_input], hide_code=True)"
   ]
  },
  {
   "cell_type": "markdown",
   "metadata": {},
   "source": [
    "## Examples"
   ]
  },
  {
   "cell_type": "markdown",
   "metadata": {},
   "source": [
    "### linked scipp object and dimension input"
   ]
  },
  {
   "cell_type": "code",
   "execution_count": null,
   "metadata": {},
   "outputs": [],
   "source": [
    "from scipp_widgets.input_spec import ScippInputWithDimSpec\n",
    "data_dim_input = ScippInputWithDimSpec(['x', 'dim'])\n",
    "ProcessWidget(sc.sum, [data_dim_input])"
   ]
  },
  {
   "cell_type": "code",
   "execution_count": 16,
   "metadata": {},
   "outputs": [
    {
     "data": {
      "text/plain": [
       "True"
      ]
     },
     "execution_count": 16,
     "metadata": {},
     "output_type": "execute_result"
    }
   ],
   "source": [
    "from inspect import signature, Parameter\n",
    "signature(sc.sum).parameters['x'].default == Parameter.empty"
   ]
  },
  {
   "cell_type": "code",
   "execution_count": null,
   "metadata": {},
   "outputs": [],
   "source": [
    "from dataclasses import dataclass\n",
    "from typing import Any\n",
    "\n",
    "@dataclass\n",
    "class FuncParameter(repr=False):\n",
    "    name: str\n",
    "    default: Any\n",
    "    as_string: str\n",
    "        \n",
    "    def __repr__(self):\n",
    "        return as_string\n",
    "    \n",
    "    \n",
    "\n",
    "def parse_signature(func: Callable):\n",
    "    parameters = []\n",
    "    for key, value in signature(func).items():\n",
    "        parameters.append(FuncParameter(key, value.default, value., value.))\n",
    "        "
   ]
  }
 ],
 "metadata": {
  "kernelspec": {
   "display_name": "Python 3",
   "language": "python",
   "name": "python3"
  },
  "language_info": {
   "codemirror_mode": {
    "name": "ipython",
    "version": 3
   },
   "file_extension": ".py",
   "mimetype": "text/x-python",
   "name": "python",
   "nbconvert_exporter": "python",
   "pygments_lexer": "ipython3",
   "version": "3.7.8"
  }
 },
 "nbformat": 4,
 "nbformat_minor": 4
}
