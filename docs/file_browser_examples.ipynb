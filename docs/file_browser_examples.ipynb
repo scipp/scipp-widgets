{
 "cells": [
  {
   "cell_type": "markdown",
   "metadata": {},
   "source": [
    "# File browser example\n",
    "This uses the the widget from here https://github.com/crahan/ipyfilechooser to browse the file system of the server. This works but I find the fact that you have to press the select bytton before you choice is registered slightly counter intuative.\n",
    "\n",
    "I have added the relevant dependencies to scipp-widgets.yml so this example should just work out of the box if you update this conda enviroment.\n",
    "\n",
    "If this is too clunky it should be simple enough to-do a similar thing ourselves."
   ]
  },
  {
   "cell_type": "code",
   "execution_count": 1,
   "metadata": {},
   "outputs": [
    {
     "data": {
      "application/vnd.jupyter.widget-view+json": {
       "model_id": "9832540108af4973abe394fb7063a770",
       "version_major": 2,
       "version_minor": 0
      },
      "text/plain": [
       "LoadWidget(children=(Box(children=(FileChooser(path='/home/andmt/scipp-widgets/docs', filename='', title='HTML…"
      ]
     },
     "metadata": {},
     "output_type": "display_data"
    }
   ],
   "source": [
    "from scipp_widgets.inputs import FileInput\n",
    "from scipp_widgets.validators import FilepathValidator\n",
    "from scipp_widgets.widgets import LoadWidget, FileBrowser\n",
    "file_validator = FilepathValidator(allowed_extensions=['.nxs'])\n",
    "fake_load = lambda filename : filename\n",
    "file_input = FileInput('filename', validator=file_validator)\n",
    "LoadWidget(fake_load, [file_input], button_name='Load')"
   ]
  },
  {
   "cell_type": "code",
   "execution_count": 2,
   "metadata": {},
   "outputs": [
    {
     "data": {
      "application/vnd.jupyter.widget-view+json": {
       "model_id": "4b84c251240f485eaae4836920f4aaae",
       "version_major": 2,
       "version_minor": 0
      },
      "text/plain": [
       "Select(options=('📁 ..', '📁 _build', '📁 _static', '📁 _templates', 'Untitled.ipynb', 'concepts.ipynb', 'conf.py'…"
      ]
     },
     "metadata": {},
     "output_type": "display_data"
    }
   ],
   "source": [
    "from scipp_widgets.filechooser import FilePicker, FileBrowser\n",
    "file_picker = FilePicker()\n",
    "file_picker.widget"
   ]
  },
  {
   "cell_type": "code",
   "execution_count": 3,
   "metadata": {},
   "outputs": [
    {
     "data": {
      "application/vnd.jupyter.widget-view+json": {
       "model_id": "d1a8f33f4e1b4e3cb50cfe439bec06b3",
       "version_major": 2,
       "version_minor": 0
      },
      "text/plain": [
       "VBox(children=(HBox(children=(Dropdown(options=('/home/andmt/scipp-widgets/docs', '/home/andmt/scipp-widgets',…"
      ]
     },
     "metadata": {},
     "output_type": "display_data"
    }
   ],
   "source": [
    "FileBrowser().widget"
   ]
  }
 ],
 "metadata": {
  "kernelspec": {
   "display_name": "Python 3",
   "language": "python",
   "name": "python3"
  },
  "language_info": {
   "codemirror_mode": {
    "name": "ipython",
    "version": 3
   },
   "file_extension": ".py",
   "mimetype": "text/x-python",
   "name": "python",
   "nbconvert_exporter": "python",
   "pygments_lexer": "ipython3",
   "version": "3.7.9"
  }
 },
 "nbformat": 4,
 "nbformat_minor": 4
}
