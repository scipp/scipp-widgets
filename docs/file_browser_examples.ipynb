{
 "cells": [
  {
   "cell_type": "markdown",
   "metadata": {},
   "source": [
    "# File browser example\n",
    "This uses the the widget from here https://github.com/crahan/ipyfilechooser to browse the file system of the server. This works but I find the fact that you have to press the select bytton before you choice is registered slightly counter intuative.\n",
    "\n",
    "I have added the relevant dependencies to scipp-widgets.yml so this example should just work out of the box if you update this conda enviroment.\n",
    "\n",
    "If this is too clunky it should be simple enough to-do a similar thing ourselves."
   ]
  },
  {
   "cell_type": "code",
   "execution_count": null,
   "metadata": {},
   "outputs": [],
   "source": [
    "from scipp_widgets.inputs import FileInput\n",
    "from scipp_widgets.validators import FilepathValidator\n",
    "from scipp_widgets.widgets import LoadWidget\n",
    "file_validator = FilepathValidator(allowed_extensions=['.nxs'])\n",
    "fake_load = lambda filename : filename\n",
    "file_input = FileInput('filename', validator=file_validator)\n",
    "LoadWidget(fake_load, [file_input], button_name='Load')"
   ]
  },
  {
   "cell_type": "code",
   "execution_count": null,
   "metadata": {},
   "outputs": [],
   "source": []
  }
 ],
 "metadata": {
  "kernelspec": {
   "display_name": "Python 3",
   "language": "python",
   "name": "python3"
  },
  "language_info": {
   "codemirror_mode": {
    "name": "ipython",
    "version": 3
   },
   "file_extension": ".py",
   "mimetype": "text/x-python",
   "name": "python",
   "nbconvert_exporter": "python",
   "pygments_lexer": "ipython3",
   "version": "3.7.9"
  }
 },
 "nbformat": 4,
 "nbformat_minor": 4
}
