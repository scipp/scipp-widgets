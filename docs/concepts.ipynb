{
 "cells": [
  {
   "cell_type": "markdown",
   "metadata": {},
   "source": [
    "# scipp-widgets concepts\n"
   ]
  },
  {
   "cell_type": "markdown",
   "metadata": {},
   "source": [
    "## Input specification\n",
    "An input specification describes how an input widget should be constructed and how its user-input should be validated and pre-processed. \n",
    "For the majority of cases the provided generic class InputSpec should suffice."
   ]
  },
  {
   "cell_type": "code",
   "execution_count": null,
   "metadata": {},
   "outputs": [],
   "source": [
    "from scipp_widgets.input_spec import InputSpec\n",
    "help(InputSpec)"
   ]
  },
  {
   "cell_type": "markdown",
   "metadata": {},
   "source": [
    "However, If you wish to make your own, the interface that needs to be implemented is one property and two methods.These are:\n",
    " * The `name` property, this should return a string and corresponds to the name of the relevant function argument.\n",
    " * The `validate` method. This performs any needed pre-processing and validation on the user input.\n",
    " * The `create_input_widget` method. This method should take no inputs and return the widget object you wish to use as the graphical representation.\n",
    " \n",
    "Programmatically this interface would look like:"
   ]
  },
  {
   "cell_type": "code",
   "execution_count": null,
   "metadata": {},
   "outputs": [],
   "source": [
    "from abc import ABC, abstractmethod\n",
    "class IInputSpec(ABC):\n",
    "    \"\"\"\n",
    "    Interfaces detailing which methods and properties an\n",
    "    input specification must have.\n",
    "    \"\"\"\n",
    "    @abstractmethod\n",
    "    def validate(self, input):\n",
    "        pass\n",
    "\n",
    "    @abstractmethod\n",
    "    def create_input_widget(self):\n",
    "        pass\n",
    "\n",
    "    @property\n",
    "    @abstractmethod\n",
    "    def name(self):\n",
    "        pass"
   ]
  },
  {
   "cell_type": "markdown",
   "metadata": {},
   "source": [
    "## Validators\n",
    "A validator can be assigned to each input.\n",
    "These serve the dual purpose of doing any required pre-processing and validating the user inputs.\n",
    "They should take the form of a function with a single input and single output, and throw a `ValueError` with an appropriate message if the validation fails.\n",
    "\n",
    "### Examples\n",
    "#### Convert to integer and validate\n",
    "If you just wish to check that the user-input string can be converted to an integer the inbuilt function `int` will suffice here. If for example you also wanted to check that the integer was positive you could do the following:"
   ]
  },
  {
   "cell_type": "code",
   "execution_count": null,
   "metadata": {},
   "outputs": [],
   "source": [
    "def integer_range_validator(input):\n",
    "    if(int(input) > 0):\n",
    "        return int(input)\n",
    "    \n",
    "    raise ValueError(\n",
    "                f'{input} is invalid. Must be a positive integer.')"
   ]
  }
 ],
 "metadata": {
  "kernelspec": {
   "display_name": "Python 3",
   "language": "python",
   "name": "python3"
  },
  "language_info": {
   "codemirror_mode": {
    "name": "ipython",
    "version": 3
   },
   "file_extension": ".py",
   "mimetype": "text/x-python",
   "name": "python",
   "nbconvert_exporter": "python",
   "pygments_lexer": "ipython3",
   "version": "3.7.8"
  }
 },
 "nbformat": 4,
 "nbformat_minor": 4
}
