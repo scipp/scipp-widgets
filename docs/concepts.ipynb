{
 "cells": [
  {
   "cell_type": "markdown",
   "metadata": {},
   "source": [
    "# Scipp-widgets advanced concepts\n"
   ]
  },
  {
   "cell_type": "markdown",
   "metadata": {},
   "source": [
    "This page describes the concepts and interfaces used by the `scippwidgets` module if more advanced users wish to create their own input classes or validators."
   ]
  },
  {
   "cell_type": "markdown",
   "metadata": {},
   "source": [
    "## Input specification\n",
    "An input object describes how an input widget should be constructed and how its user-input should be validated and pre-processed. \n",
    "For the majority of cases the provided generic [classes](inputs.ipynb) provided should suffice."
   ]
  },
  {
   "cell_type": "markdown",
   "metadata": {},
   "source": [
    "If you wish to make your own, the interface that needs to be implemented has two properties. These are:\n",
    " * `widget`: returns the ipywidget used for user input.\n",
    " * `function_arguments`: returns a dict of {func arg name: func arg value}\n",
    " \n",
    "Programmatically this interface looks like:"
   ]
  },
  {
   "cell_type": "code",
   "execution_count": null,
   "metadata": {},
   "outputs": [],
   "source": [
    "from abc import ABC, abstractmethod\n",
    "class IInput(ABC):\n",
    "    \"\"\"\n",
    "    Interfaces detailing which methods and properties an\n",
    "    input specification must have.\n",
    "    \"\"\"\n",
    "    @property\n",
    "    @abstractmethod\n",
    "    def widget(self):\n",
    "        \"\"\"\n",
    "        Returns a constructed widget to insert into the graphical interface.\n",
    "        \"\"\"\n",
    "        pass\n",
    "\n",
    "    @property\n",
    "    @abstractmethod\n",
    "    def function_arguments(self):\n",
    "        \"\"\"\n",
    "        Returns a dict made up of func_arg_name: func_arg_value\n",
    "        \"\"\"\n",
    "        pass"
   ]
  },
  {
   "cell_type": "markdown",
   "metadata": {},
   "source": [
    "### Examples\n",
    "#### Float slider input"
   ]
  },
  {
   "cell_type": "code",
   "execution_count": null,
   "metadata": {},
   "outputs": [],
   "source": [
    "import ipywidgets as widgets\n",
    "class FloatSliderInput(IInput):\n",
    "    def __init__(self, func_arg_name, range_min, range_max, intial_value):\n",
    "        self._widget = widgets.FloatSlider(value=intial_value, min=range_min, max=range_max)\n",
    "        self._func_arg_name = func_arg_name\n",
    "        \n",
    "    @property\n",
    "    def widget(self):\n",
    "        return self._widget\n",
    "    \n",
    "    @property\n",
    "    def function_arguments(self):\n",
    "        return {self._func_arg_name: self._widget.value}\n",
    "    \n",
    "FloatSliderInput('example_param', 0, 5, 2.5).widget"
   ]
  },
  {
   "cell_type": "markdown",
   "metadata": {},
   "source": [
    "#### Linked scipp object and dimension inputs"
   ]
  },
  {
   "cell_type": "code",
   "execution_count": null,
   "metadata": {},
   "outputs": [],
   "source": [
    "from typing import Any, Sequence, MutableMapping, Dict, Callable\n",
    "from scippwidgets.inputs import get_notebook_global_scope\n",
    "from scippwidgets.validators import ScippObjectValidator\n",
    "\n",
    "scipp_object_validator = ScippObjectValidator\n",
    "\n",
    "class ScippInputWithDim(IInput):\n",
    "    \"\"\"\n",
    "    Input widget which takes a scipp object and a linked\n",
    "    dimension field.\n",
    "    \"\"\"\n",
    "    def __init__(self,\n",
    "                 func_arg_names: Sequence[str],\n",
    "                 data_name: str = 'data',\n",
    "                 scope: MutableMapping[str, Any] = {}):\n",
    "        self._scope = scope if scope else get_notebook_global_scope()\n",
    "        self._func_arg_names = func_arg_names\n",
    "        self._scipp_obj_input = widgets.Text(placeholder=data_name,\n",
    "                                             continuous_update=False)\n",
    "        self._dimension_input = widgets.Combobox(placeholder='dim',\n",
    "                                                 continuous_update=False)\n",
    "        self._scipp_obj_input.observe(self._handle_scipp_obj_change,\n",
    "                                      names='value')\n",
    "        self._widget = widgets.HBox(\n",
    "            [self._scipp_obj_input, self._dimension_input])\n",
    "        self._validators = (self._scipp_obj_validator, self._dims_validator)\n",
    "        self._allowed_dims = []\n",
    "\n",
    "    @property\n",
    "    def function_arguments(self):\n",
    "        return {\n",
    "            name: validator(widget.value)\n",
    "            for name, widget, validator in zip(\n",
    "                self._func_arg_names, self.widget.children, self._validators)\n",
    "        }\n",
    "\n",
    "    @property\n",
    "    def widget(self):\n",
    "        return self._widget\n",
    "\n",
    "    def _handle_scipp_obj_change(self, change):\n",
    "        try:\n",
    "            scipp_obj = self._scipp_obj_validator(change['new'])\n",
    "            dims = scipp_obj.dims\n",
    "            self._dimension_input.options = dims\n",
    "            self._allowed_dims = dims\n",
    "        except ValueError:\n",
    "            pass\n",
    "\n",
    "    def _scipp_obj_validator(self, input):\n",
    "        scipp_object = _wrapped_eval(input, self._scope)\n",
    "        scipp_object_validator(scipp_object)\n",
    "        has_attr_validator(scipp_object, 'dims')\n",
    "        return scipp_object\n",
    "\n",
    "    def _dims_validator(self, input):\n",
    "        if not input:\n",
    "            raise ValueError('No dimension selected')\n",
    "        if input in self._allowed_dims:\n",
    "            return input\n",
    "        else:\n",
    "            raise ValueError(f'Dimension {input} does no exist in'\n",
    "                             f' {self._scipp_obj_input.value}')\n",
    "            \n",
    "ScippInputWithDim(['arg1', 'arg2']).widget"
   ]
  },
  {
   "cell_type": "markdown",
   "metadata": {},
   "source": [
    "## Validators\n",
    "A validator can be assigned to each input.\n",
    "These serve the dual purpose of doing any required pre-processing and validating the user inputs.\n",
    "See [validators](validators.ipynb) for a list of supplied validators.\n",
    "They should take the form of a function with a single input and single output, and throw a `ValueError` with an appropriate message if the validation fails.\n",
    "\n",
    "\n",
    "### Examples\n",
    "#### Allowed value validator\n",
    "If an input is required to belong to a certain set of allowed values, the following validator could be used."
   ]
  },
  {
   "cell_type": "code",
   "execution_count": null,
   "metadata": {},
   "outputs": [],
   "source": [
    "def integer_range_validator(input):\n",
    "    allowed_values = ['a', 'b', 'c']\n",
    "    if input in allowed_values:\n",
    "        return input\n",
    "    \n",
    "    raise ValueError(\n",
    "                f'{input} is invalid. Allowed values are {allowed_values}.')\n",
    "integer_range_validator('a')"
   ]
  },
  {
   "cell_type": "markdown",
   "metadata": {},
   "source": [
    "A factory is supplied which performs a similar function."
   ]
  },
  {
   "cell_type": "code",
   "execution_count": null,
   "metadata": {},
   "outputs": [],
   "source": [
    "from scippwidgets.validators import ValueValidator\n",
    "allowed_values_validator = ValueValidator(allowed_values=['a', 'b', 'c'])\n",
    "allowed_values_validator('b')"
   ]
  }
 ],
 "metadata": {
  "kernelspec": {
   "display_name": "Python 3",
   "language": "python",
   "name": "python3"
  },
  "language_info": {
   "codemirror_mode": {
    "name": "ipython",
    "version": 3
   },
   "file_extension": ".py",
   "mimetype": "text/x-python",
   "name": "python",
   "nbconvert_exporter": "python",
   "pygments_lexer": "ipython3",
   "version": "3.7.8"
  }
 },
 "nbformat": 4,
 "nbformat_minor": 4
}
