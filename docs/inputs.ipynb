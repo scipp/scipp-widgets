{
 "cells": [
  {
   "cell_type": "markdown",
   "metadata": {},
   "source": [
    "# Input List"
   ]
  },
  {
   "cell_type": "code",
   "execution_count": null,
   "metadata": {},
   "outputs": [],
   "source": [
    "from scipp_widgets import inputs\n",
    "kwargs = {}"
   ]
  },
  {
   "cell_type": "markdown",
   "metadata": {},
   "source": [
    "## SingleInput\n",
    "The simplest set of inputs corrospond to a single user-input and a single function parameter.\n",
    "They are all specialisations of `SingleInput`.\n",
    "The `**kwargs` argument is passed to the underlying widget `__init__`.\n",
    "\n",
    "### SingleInput"
   ]
  },
  {
   "cell_type": "code",
   "execution_count": null,
   "metadata": {},
   "outputs": [],
   "source": [
    "from ipywidgets import Combobox\n",
    "single_input= inputs.SingleInput(func_arg_name='arg_name',\n",
    "                                 widget_type=Combobox,\n",
    "                                 validator=lambda value: value,\n",
    "                                 **kwargs)\n",
    "single_input.widget"
   ]
  },
  {
   "cell_type": "markdown",
   "metadata": {},
   "source": [
    "### TextInput"
   ]
  },
  {
   "cell_type": "code",
   "execution_count": null,
   "metadata": {},
   "outputs": [],
   "source": [
    "text_input = inputs.TextInput(function_arg_name='arg_name',\n",
    "                              validator=lambda value: value,\n",
    "                              **kwargs)\n",
    "text_input.widget"
   ]
  },
  {
   "cell_type": "markdown",
   "metadata": {},
   "source": [
    "### Input\n",
    "Evaluates the input in the notebook's global scope before validation."
   ]
  },
  {
   "cell_type": "code",
   "execution_count": null,
   "metadata": {},
   "outputs": [],
   "source": [
    "eval_input = inputs.Input(function_arg_name='arg_name',\n",
    "                              validator=lambda value: value,\n",
    "                              scope={},\n",
    "                              **kwargs)\n",
    "eval_input.widget"
   ]
  },
  {
   "cell_type": "markdown",
   "metadata": {},
   "source": [
    "### FileInput\n",
    "Implements a simple file browser for files on the server running the jupyter instance. Returns a file path."
   ]
  },
  {
   "cell_type": "code",
   "execution_count": null,
   "metadata": {},
   "outputs": [],
   "source": [
    "import os\n",
    "file_browse = inputs.FileInput(function_arg_name='arg_name', \n",
    "                               default_directory=os.getcwd(),\n",
    "                               validator=lambda value: value,\n",
    "                               file_filter='',\n",
    "                               show_only_dirs=False)\n",
    "file_browse.widget"
   ]
  },
  {
   "cell_type": "markdown",
   "metadata": {},
   "source": [
    "## MultipleInput\n",
    "### ScippInputWithDim"
   ]
  },
  {
   "cell_type": "code",
   "execution_count": null,
   "metadata": {},
   "outputs": [],
   "source": [
    "scipp_with_dim = inputs.ScippInputWithDim(func_arg_names=('x', 'dim'),\n",
    "                                          data_name='data')\n",
    "scipp_with_dim.widget"
   ]
  }
 ],
 "metadata": {
  "kernelspec": {
   "display_name": "Python 3",
   "language": "python",
   "name": "python3"
  },
  "language_info": {
   "codemirror_mode": {
    "name": "ipython",
    "version": 3
   },
   "file_extension": ".py",
   "mimetype": "text/x-python",
   "name": "python",
   "nbconvert_exporter": "python",
   "pygments_lexer": "ipython3",
   "version": "3.7.9"
  }
 },
 "nbformat": 4,
 "nbformat_minor": 4
}
